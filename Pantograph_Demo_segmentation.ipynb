{
  "nbformat": 4,
  "nbformat_minor": 0,
  "metadata": {
    "colab": {
      "name": "Pantograph Demo - segmentation",
      "provenance": [],
      "authorship_tag": "ABX9TyPbSWbAqh3djzJE8xwooXd+",
      "include_colab_link": true
    },
    "kernelspec": {
      "name": "python3",
      "display_name": "Python 3"
    },
    "accelerator": "GPU"
  },
  "cells": [
    {
      "cell_type": "markdown",
      "metadata": {
        "id": "view-in-github",
        "colab_type": "text"
      },
      "source": [
        "<a href=\"https://colab.research.google.com/github/mashuai191/pantograph/blob/master/Pantograph_Demo_segmentation.ipynb\" target=\"_parent\"><img src=\"https://colab.research.google.com/assets/colab-badge.svg\" alt=\"Open In Colab\"/></a>"
      ]
    },
    {
      "cell_type": "code",
      "metadata": {
        "id": "ClKFptM_trgY",
        "colab_type": "code",
        "colab": {}
      },
      "source": [
        "# how to \n",
        "# how to run web app in google colab\n",
        "    #refer to : https://medium.com/@kshitijvijay271199/flask-on-google-colab-f6525986797b\n"
      ],
      "execution_count": 0,
      "outputs": []
    },
    {
      "cell_type": "code",
      "metadata": {
        "id": "WbZ2f04LErRS",
        "colab_type": "code",
        "outputId": "d0177a1b-7442-48e6-cc4d-ac1d163ca6d9",
        "colab": {
          "base_uri": "https://localhost:8080/",
          "height": 955
        }
      },
      "source": [
        "# install dependencies: (use cu100 because colab is on CUDA 10.0)\n",
        "!pip install -U torch==1.4+cu100 torchvision==0.5+cu100 -f https://download.pytorch.org/whl/torch_stable.html \n",
        "!pip install cython pyyaml==5.1\n",
        "!pip install -U 'git+https://github.com/cocodataset/cocoapi.git#subdirectory=PythonAPI'\n",
        "import torch, torchvision"
      ],
      "execution_count": 0,
      "outputs": [
        {
          "output_type": "stream",
          "text": [
            "Looking in links: https://download.pytorch.org/whl/torch_stable.html\n",
            "Collecting torch==1.4+cu100\n",
            "\u001b[?25l  Downloading https://download.pytorch.org/whl/cu100/torch-1.4.0%2Bcu100-cp36-cp36m-linux_x86_64.whl (723.9MB)\n",
            "\u001b[K     |████████████████████████████████| 723.9MB 25kB/s \n",
            "\u001b[?25hCollecting torchvision==0.5+cu100\n",
            "\u001b[?25l  Downloading https://download.pytorch.org/whl/cu100/torchvision-0.5.0%2Bcu100-cp36-cp36m-linux_x86_64.whl (4.0MB)\n",
            "\u001b[K     |████████████████████████████████| 4.1MB 89.1MB/s \n",
            "\u001b[?25hRequirement already satisfied, skipping upgrade: pillow>=4.1.1 in /usr/local/lib/python3.6/dist-packages (from torchvision==0.5+cu100) (7.0.0)\n",
            "Requirement already satisfied, skipping upgrade: numpy in /usr/local/lib/python3.6/dist-packages (from torchvision==0.5+cu100) (1.18.2)\n",
            "Requirement already satisfied, skipping upgrade: six in /usr/local/lib/python3.6/dist-packages (from torchvision==0.5+cu100) (1.12.0)\n",
            "Installing collected packages: torch, torchvision\n",
            "  Found existing installation: torch 1.4.0\n",
            "    Uninstalling torch-1.4.0:\n",
            "      Successfully uninstalled torch-1.4.0\n",
            "  Found existing installation: torchvision 0.5.0\n",
            "    Uninstalling torchvision-0.5.0:\n",
            "      Successfully uninstalled torchvision-0.5.0\n",
            "Successfully installed torch-1.4.0+cu100 torchvision-0.5.0+cu100\n",
            "Requirement already satisfied: cython in /usr/local/lib/python3.6/dist-packages (0.29.15)\n",
            "Collecting pyyaml==5.1\n",
            "\u001b[?25l  Downloading https://files.pythonhosted.org/packages/9f/2c/9417b5c774792634834e730932745bc09a7d36754ca00acf1ccd1ac2594d/PyYAML-5.1.tar.gz (274kB)\n",
            "\u001b[K     |████████████████████████████████| 276kB 37.2MB/s \n",
            "\u001b[?25hBuilding wheels for collected packages: pyyaml\n",
            "  Building wheel for pyyaml (setup.py) ... \u001b[?25l\u001b[?25hdone\n",
            "  Created wheel for pyyaml: filename=PyYAML-5.1-cp36-cp36m-linux_x86_64.whl size=44074 sha256=fc002ac8e92318141d0eb6397e1ca8ade8b3fb36f849094c4e4851178a402630\n",
            "  Stored in directory: /root/.cache/pip/wheels/ad/56/bc/1522f864feb2a358ea6f1a92b4798d69ac783a28e80567a18b\n",
            "Successfully built pyyaml\n",
            "Installing collected packages: pyyaml\n",
            "  Found existing installation: PyYAML 3.13\n",
            "    Uninstalling PyYAML-3.13:\n",
            "      Successfully uninstalled PyYAML-3.13\n",
            "Successfully installed pyyaml-5.1\n",
            "Collecting git+https://github.com/cocodataset/cocoapi.git#subdirectory=PythonAPI\n",
            "  Cloning https://github.com/cocodataset/cocoapi.git to /tmp/pip-req-build-kcx9zsgj\n",
            "  Running command git clone -q https://github.com/cocodataset/cocoapi.git /tmp/pip-req-build-kcx9zsgj\n",
            "Requirement already satisfied, skipping upgrade: setuptools>=18.0 in /usr/local/lib/python3.6/dist-packages (from pycocotools==2.0) (46.0.0)\n",
            "Requirement already satisfied, skipping upgrade: cython>=0.27.3 in /usr/local/lib/python3.6/dist-packages (from pycocotools==2.0) (0.29.15)\n",
            "Requirement already satisfied, skipping upgrade: matplotlib>=2.1.0 in /usr/local/lib/python3.6/dist-packages (from pycocotools==2.0) (3.2.1)\n",
            "Requirement already satisfied, skipping upgrade: python-dateutil>=2.1 in /usr/local/lib/python3.6/dist-packages (from matplotlib>=2.1.0->pycocotools==2.0) (2.8.1)\n",
            "Requirement already satisfied, skipping upgrade: numpy>=1.11 in /usr/local/lib/python3.6/dist-packages (from matplotlib>=2.1.0->pycocotools==2.0) (1.18.2)\n",
            "Requirement already satisfied, skipping upgrade: cycler>=0.10 in /usr/local/lib/python3.6/dist-packages (from matplotlib>=2.1.0->pycocotools==2.0) (0.10.0)\n",
            "Requirement already satisfied, skipping upgrade: pyparsing!=2.0.4,!=2.1.2,!=2.1.6,>=2.0.1 in /usr/local/lib/python3.6/dist-packages (from matplotlib>=2.1.0->pycocotools==2.0) (2.4.6)\n",
            "Requirement already satisfied, skipping upgrade: kiwisolver>=1.0.1 in /usr/local/lib/python3.6/dist-packages (from matplotlib>=2.1.0->pycocotools==2.0) (1.1.0)\n",
            "Requirement already satisfied, skipping upgrade: six>=1.5 in /usr/local/lib/python3.6/dist-packages (from python-dateutil>=2.1->matplotlib>=2.1.0->pycocotools==2.0) (1.12.0)\n",
            "Building wheels for collected packages: pycocotools\n",
            "  Building wheel for pycocotools (setup.py) ... \u001b[?25l\u001b[?25hdone\n",
            "  Created wheel for pycocotools: filename=pycocotools-2.0-cp36-cp36m-linux_x86_64.whl size=275357 sha256=7ad536f4736b02c63417e25d8a506c289db57de2c0cd71d1d6402a448dfd13cf\n",
            "  Stored in directory: /tmp/pip-ephem-wheel-cache-4yt6n_i4/wheels/90/51/41/646daf401c3bc408ff10de34ec76587a9b3ebfac8d21ca5c3a\n",
            "Successfully built pycocotools\n",
            "Installing collected packages: pycocotools\n",
            "  Found existing installation: pycocotools 2.0.0\n",
            "    Uninstalling pycocotools-2.0.0:\n",
            "      Successfully uninstalled pycocotools-2.0.0\n",
            "Successfully installed pycocotools-2.0\n"
          ],
          "name": "stdout"
        }
      ]
    },
    {
      "cell_type": "code",
      "metadata": {
        "id": "ISXWbjmsEt9G",
        "colab_type": "code",
        "outputId": "b9b00f3e-72a0-4397-8b04-a6e809c315bc",
        "colab": {
          "base_uri": "https://localhost:8080/",
          "height": 748
        }
      },
      "source": [
        "!rm -rf detectron2_repo\n",
        "!git clone https://github.com/mashuai191/detectron2 detectron2_repo\n",
        "\n",
        "!pip install -e detectron2_repo"
      ],
      "execution_count": 0,
      "outputs": [
        {
          "output_type": "stream",
          "text": [
            "Cloning into 'detectron2_repo'...\n",
            "remote: Enumerating objects: 3563, done.\u001b[K\n",
            "remote: Total 3563 (delta 0), reused 0 (delta 0), pack-reused 3563\u001b[K\n",
            "Receiving objects: 100% (3563/3563), 2.14 MiB | 3.79 MiB/s, done.\n",
            "Resolving deltas: 100% (2458/2458), done.\n",
            "Obtaining file:///content/detectron2_repo\n",
            "Requirement already satisfied: termcolor>=1.1 in /usr/local/lib/python3.6/dist-packages (from detectron2==0.1.1) (1.1.0)\n",
            "Requirement already satisfied: Pillow in /usr/local/lib/python3.6/dist-packages (from detectron2==0.1.1) (7.0.0)\n",
            "Collecting yacs>=0.1.6\n",
            "  Downloading https://files.pythonhosted.org/packages/2f/51/9d613d67a8561a0cdf696c3909870f157ed85617fea3cff769bb7de09ef7/yacs-0.1.6-py3-none-any.whl\n",
            "Requirement already satisfied: tabulate in /usr/local/lib/python3.6/dist-packages (from detectron2==0.1.1) (0.8.6)\n",
            "Requirement already satisfied: cloudpickle in /usr/local/lib/python3.6/dist-packages (from detectron2==0.1.1) (1.3.0)\n",
            "Requirement already satisfied: matplotlib in /usr/local/lib/python3.6/dist-packages (from detectron2==0.1.1) (3.2.1)\n",
            "Requirement already satisfied: tqdm>4.29.0 in /usr/local/lib/python3.6/dist-packages (from detectron2==0.1.1) (4.38.0)\n",
            "Requirement already satisfied: tensorboard in /tensorflow-1.15.0/python3.6 (from detectron2==0.1.1) (1.15.0)\n",
            "Collecting fvcore\n",
            "  Downloading https://files.pythonhosted.org/packages/fa/d0/eaf4d8feac2327ba83201849c4d40aa5e4a7793dd599b91578eaa315d188/fvcore-0.1.dev200325.tar.gz\n",
            "Requirement already satisfied: future in /usr/local/lib/python3.6/dist-packages (from detectron2==0.1.1) (0.16.0)\n",
            "Requirement already satisfied: pydot in /usr/local/lib/python3.6/dist-packages (from detectron2==0.1.1) (1.3.0)\n",
            "Requirement already satisfied: PyYAML in /usr/local/lib/python3.6/dist-packages (from yacs>=0.1.6->detectron2==0.1.1) (5.1)\n",
            "Requirement already satisfied: python-dateutil>=2.1 in /usr/local/lib/python3.6/dist-packages (from matplotlib->detectron2==0.1.1) (2.8.1)\n",
            "Requirement already satisfied: kiwisolver>=1.0.1 in /usr/local/lib/python3.6/dist-packages (from matplotlib->detectron2==0.1.1) (1.1.0)\n",
            "Requirement already satisfied: pyparsing!=2.0.4,!=2.1.2,!=2.1.6,>=2.0.1 in /usr/local/lib/python3.6/dist-packages (from matplotlib->detectron2==0.1.1) (2.4.6)\n",
            "Requirement already satisfied: cycler>=0.10 in /usr/local/lib/python3.6/dist-packages (from matplotlib->detectron2==0.1.1) (0.10.0)\n",
            "Requirement already satisfied: numpy>=1.11 in /usr/local/lib/python3.6/dist-packages (from matplotlib->detectron2==0.1.1) (1.18.2)\n",
            "Requirement already satisfied: markdown>=2.6.8 in /usr/local/lib/python3.6/dist-packages (from tensorboard->detectron2==0.1.1) (3.2.1)\n",
            "Requirement already satisfied: setuptools>=41.0.0 in /usr/local/lib/python3.6/dist-packages (from tensorboard->detectron2==0.1.1) (46.0.0)\n",
            "Requirement already satisfied: protobuf>=3.6.0 in /usr/local/lib/python3.6/dist-packages (from tensorboard->detectron2==0.1.1) (3.10.0)\n",
            "Requirement already satisfied: werkzeug>=0.11.15 in /usr/local/lib/python3.6/dist-packages (from tensorboard->detectron2==0.1.1) (1.0.0)\n",
            "Requirement already satisfied: absl-py>=0.4 in /usr/local/lib/python3.6/dist-packages (from tensorboard->detectron2==0.1.1) (0.9.0)\n",
            "Requirement already satisfied: grpcio>=1.6.3 in /usr/local/lib/python3.6/dist-packages (from tensorboard->detectron2==0.1.1) (1.24.3)\n",
            "Requirement already satisfied: six>=1.10.0 in /usr/local/lib/python3.6/dist-packages (from tensorboard->detectron2==0.1.1) (1.12.0)\n",
            "Requirement already satisfied: wheel>=0.26; python_version >= \"3\" in /usr/local/lib/python3.6/dist-packages (from tensorboard->detectron2==0.1.1) (0.34.2)\n",
            "Collecting portalocker\n",
            "  Downloading https://files.pythonhosted.org/packages/64/03/9abfb3374d67838daf24f1a388528714bec1debb1d13749f0abd7fb07cfb/portalocker-1.6.0-py2.py3-none-any.whl\n",
            "Building wheels for collected packages: fvcore\n",
            "  Building wheel for fvcore (setup.py) ... \u001b[?25l\u001b[?25hdone\n",
            "  Created wheel for fvcore: filename=fvcore-0.1.dev200325-cp36-none-any.whl size=38930 sha256=a9d1d69047b8d3d5438772c17354ff39977675857ee9902e61df208b9f892656\n",
            "  Stored in directory: /root/.cache/pip/wheels/58/4f/d1/6b0ada294145df5fe73092d9849d27be5b5b720fd8cfdd1b98\n",
            "Successfully built fvcore\n",
            "Installing collected packages: yacs, portalocker, fvcore, detectron2\n",
            "  Running setup.py develop for detectron2\n",
            "Successfully installed detectron2 fvcore-0.1.dev200325 portalocker-1.6.0 yacs-0.1.6\n"
          ],
          "name": "stdout"
        }
      ]
    },
    {
      "cell_type": "code",
      "metadata": {
        "id": "4eEpVHfVFMAE",
        "colab_type": "code",
        "colab": {}
      },
      "source": [
        "# You may need to restart your runtime prior to this, to let your installation take effect\n",
        "# Some basic setup:\n",
        "# Setup detectron2 logger\n",
        "import detectron2\n",
        "from detectron2.utils.logger import setup_logger\n",
        "setup_logger()\n",
        "\n",
        "# import some common libraries\n",
        "import numpy as np\n",
        "import cv2\n",
        "import random\n",
        "from google.colab.patches import cv2_imshow\n",
        "\n",
        "# import some common detectron2 utilities\n",
        "from detectron2 import model_zoo\n",
        "from detectron2.engine import DefaultPredictor\n",
        "from detectron2.config import get_cfg\n",
        "from detectron2.utils.visualizer import Visualizer\n",
        "from detectron2.data import MetadataCatalog"
      ],
      "execution_count": 0,
      "outputs": []
    },
    {
      "cell_type": "code",
      "metadata": {
        "id": "sh3tIsZxt3iH",
        "colab_type": "code",
        "outputId": "bcc7b993-ca31-4334-80c0-ab2315d8fd7e",
        "colab": {
          "base_uri": "https://localhost:8080/",
          "height": 272
        }
      },
      "source": [
        "!pip install flask-ngrok\n"
      ],
      "execution_count": 0,
      "outputs": [
        {
          "output_type": "stream",
          "text": [
            "Collecting flask-ngrok\n",
            "  Downloading https://files.pythonhosted.org/packages/af/6c/f54cb686ad1129e27d125d182f90f52b32f284e6c8df58c1bae54fa1adbc/flask_ngrok-0.0.25-py3-none-any.whl\n",
            "Requirement already satisfied: Flask>=0.8 in /usr/local/lib/python3.6/dist-packages (from flask-ngrok) (1.1.1)\n",
            "Requirement already satisfied: requests in /usr/local/lib/python3.6/dist-packages (from flask-ngrok) (2.21.0)\n",
            "Requirement already satisfied: click>=5.1 in /usr/local/lib/python3.6/dist-packages (from Flask>=0.8->flask-ngrok) (7.1.1)\n",
            "Requirement already satisfied: itsdangerous>=0.24 in /usr/local/lib/python3.6/dist-packages (from Flask>=0.8->flask-ngrok) (1.1.0)\n",
            "Requirement already satisfied: Jinja2>=2.10.1 in /usr/local/lib/python3.6/dist-packages (from Flask>=0.8->flask-ngrok) (2.11.1)\n",
            "Requirement already satisfied: Werkzeug>=0.15 in /usr/local/lib/python3.6/dist-packages (from Flask>=0.8->flask-ngrok) (1.0.0)\n",
            "Requirement already satisfied: chardet<3.1.0,>=3.0.2 in /usr/local/lib/python3.6/dist-packages (from requests->flask-ngrok) (3.0.4)\n",
            "Requirement already satisfied: idna<2.9,>=2.5 in /usr/local/lib/python3.6/dist-packages (from requests->flask-ngrok) (2.8)\n",
            "Requirement already satisfied: certifi>=2017.4.17 in /usr/local/lib/python3.6/dist-packages (from requests->flask-ngrok) (2019.11.28)\n",
            "Requirement already satisfied: urllib3<1.25,>=1.21.1 in /usr/local/lib/python3.6/dist-packages (from requests->flask-ngrok) (1.24.3)\n",
            "Requirement already satisfied: MarkupSafe>=0.23 in /usr/local/lib/python3.6/dist-packages (from Jinja2>=2.10.1->Flask>=0.8->flask-ngrok) (1.1.1)\n",
            "Installing collected packages: flask-ngrok\n",
            "Successfully installed flask-ngrok-0.0.25\n"
          ],
          "name": "stdout"
        }
      ]
    },
    {
      "cell_type": "code",
      "metadata": {
        "id": "qcoSmbKoUt4A",
        "colab_type": "code",
        "colab": {}
      },
      "source": [
        "import atexit\n",
        "import json\n",
        "import os\n",
        "import platform\n",
        "import shutil\n",
        "import subprocess\n",
        "import tempfile\n",
        "import time\n",
        "import zipfile\n",
        "from pathlib import Path\n",
        "from threading import Timer\n",
        "\n",
        "import requests\n",
        "\n",
        "\n",
        "def _get_command():\n",
        "    system = platform.system()\n",
        "    if system == \"Darwin\":\n",
        "        command = \"ngrok\"\n",
        "    elif system == \"Windows\":\n",
        "        command = \"ngrok.exe\"\n",
        "    elif system == \"Linux\":\n",
        "        command = \"ngrok\"\n",
        "    else:\n",
        "        raise Exception(\"{system} is not supported\".format(system=system))\n",
        "    return command\n",
        "\n",
        "\n",
        "def _run_ngrok(port):\n",
        "    command = _get_command()\n",
        "    ngrok_path = str(Path(tempfile.gettempdir(), \"ngrok\"))\n",
        "    _download_ngrok(ngrok_path)\n",
        "    executable = str(Path(ngrok_path, command))\n",
        "    os.chmod(executable, 0o777)\n",
        "    ngrok = subprocess.Popen([executable, 'http', str(port)])\n",
        "    atexit.register(ngrok.terminate)\n",
        "    localhost_url = \"http://localhost:4040/api/tunnels\"  # Url with tunnel details\n",
        "    time.sleep(1)\n",
        "    tunnel_url = requests.get(localhost_url).text  # Get the tunnel information\n",
        "    j = json.loads(tunnel_url)\n",
        "\n",
        "    tunnel_url = j['tunnels'][0]['public_url']  # Do the parsing of the get\n",
        "    tunnel_url = tunnel_url.replace(\"https\", \"http\")\n",
        "    return tunnel_url\n",
        "\n",
        "\n",
        "def _download_ngrok(ngrok_path):\n",
        "    if Path(ngrok_path).exists():\n",
        "        return\n",
        "    system = platform.system()\n",
        "    if system == \"Darwin\":\n",
        "        url = \"https://bin.equinox.io/c/4VmDzA7iaHb/ngrok-stable-darwin-amd64.zip\"\n",
        "    elif system == \"Windows\":\n",
        "        url = \"https://bin.equinox.io/c/4VmDzA7iaHb/ngrok-stable-windows-amd64.zip\"\n",
        "    elif system == \"Linux\":\n",
        "        url = \"https://bin.equinox.io/c/4VmDzA7iaHb/ngrok-stable-linux-amd64.zip\"\n",
        "    else:\n",
        "        raise Exception(f\"{system} is not supported\")\n",
        "    download_path = _download_file(url)\n",
        "    with zipfile.ZipFile(download_path, \"r\") as zip_ref:\n",
        "        zip_ref.extractall(ngrok_path)\n",
        "\n",
        "\n",
        "def _download_file(url):\n",
        "    local_filename = url.split('/')[-1]\n",
        "    r = requests.get(url, stream=True)\n",
        "    download_path = str(Path(tempfile.gettempdir(), local_filename))\n",
        "    with open(download_path, 'wb') as f:\n",
        "        shutil.copyfileobj(r.raw, f)\n",
        "    return download_path\n",
        "\n",
        "\n",
        "def start_ngrok(port):\n",
        "    ngrok_address = _run_ngrok(port)\n",
        "    print(f\" * Running on {ngrok_address}\")\n",
        "    print(f\" * Traffic stats available on http://127.0.0.1:4040\")\n",
        "\n",
        "\n",
        "def run_with_ngrok(app):\n",
        "    \"\"\"\n",
        "    The provided Flask app will be securely exposed to the public internet via ngrok when run,\n",
        "    and the its ngrok address will be printed to stdout\n",
        "    :param app: a Flask application object\n",
        "    :return: None\n",
        "    \"\"\"\n",
        "    old_run = app.run\n",
        "\n",
        "    def new_run(*args, **kwargs):\n",
        "        port = kwargs.get('port', 5000)\n",
        "        thread = Timer(1, start_ngrok, args=(port,))\n",
        "        thread.setDaemon(True)\n",
        "        thread.start()\n",
        "        old_run(*args, **kwargs)\n",
        "    app.run = new_run"
      ],
      "execution_count": 0,
      "outputs": []
    },
    {
      "cell_type": "code",
      "metadata": {
        "id": "s2DkdWFqt4JK",
        "colab_type": "code",
        "colab": {}
      },
      "source": [
        "#from flask_ngrok import run_with_ngrok\n",
        "from flask import Flask\n",
        "app = Flask(__name__)\n",
        "run_with_ngrok(app)   #starts ngrok when the app is run\n",
        "@app.route(\"/\")\n",
        "def home():\n",
        "    return \"<h1>Running Flask on Google Colab!</h1>\"\n",
        "  \n",
        "#app.run()"
      ],
      "execution_count": 0,
      "outputs": []
    },
    {
      "cell_type": "code",
      "metadata": {
        "id": "ItGuf2HG14A6",
        "colab_type": "code",
        "colab": {}
      },
      "source": [
        ""
      ],
      "execution_count": 0,
      "outputs": []
    },
    {
      "cell_type": "code",
      "metadata": {
        "id": "ZbQ-EXzY8EPB",
        "colab_type": "code",
        "outputId": "7599196c-6d9f-4ee1-f0e5-c7894fc9101d",
        "colab": {
          "base_uri": "https://localhost:8080/",
          "height": 122
        }
      },
      "source": [
        "\n",
        "from google.colab import drive\n",
        "drive.mount('/content/gdrive')"
      ],
      "execution_count": 0,
      "outputs": [
        {
          "output_type": "stream",
          "text": [
            "Go to this URL in a browser: https://accounts.google.com/o/oauth2/auth?client_id=947318989803-6bn6qk8qdgf4n4g3pfee6491hc0brc4i.apps.googleusercontent.com&redirect_uri=urn%3aietf%3awg%3aoauth%3a2.0%3aoob&response_type=code&scope=email%20https%3a%2f%2fwww.googleapis.com%2fauth%2fdocs.test%20https%3a%2f%2fwww.googleapis.com%2fauth%2fdrive%20https%3a%2f%2fwww.googleapis.com%2fauth%2fdrive.photos.readonly%20https%3a%2f%2fwww.googleapis.com%2fauth%2fpeopleapi.readonly\n",
            "\n",
            "Enter your authorization code:\n",
            "··········\n",
            "Mounted at /content/gdrive\n"
          ],
          "name": "stdout"
        }
      ]
    },
    {
      "cell_type": "code",
      "metadata": {
        "id": "Pysb181s85Wz",
        "colab_type": "code",
        "colab": {}
      },
      "source": [
        "import cv2\n",
        "import os\n",
        "\n",
        "DIR_BASE = '/content/gdrive/My Drive/App/machine_learning/cv/shanghaidianqi_line5'\n",
        "DIR_DATASET = '20181117_03_08_1750_G1380.MP4'\n"
      ],
      "execution_count": 0,
      "outputs": []
    },
    {
      "cell_type": "code",
      "metadata": {
        "id": "f-rm_qvwcbG2",
        "colab_type": "code",
        "outputId": "bed926d0-86d2-49ec-fe38-3222cfb08731",
        "colab": {
          "base_uri": "https://localhost:8080/",
          "height": 119
        }
      },
      "source": [
        "!git clone https://github.com/mashuai191/flask-video-streaming.git"
      ],
      "execution_count": 0,
      "outputs": [
        {
          "output_type": "stream",
          "text": [
            "Cloning into 'flask-video-streaming'...\n",
            "remote: Enumerating objects: 16, done.\u001b[K\n",
            "remote: Counting objects:   6% (1/16)\u001b[K\rremote: Counting objects:  12% (2/16)\u001b[K\rremote: Counting objects:  18% (3/16)\u001b[K\rremote: Counting objects:  25% (4/16)\u001b[K\rremote: Counting objects:  31% (5/16)\u001b[K\rremote: Counting objects:  37% (6/16)\u001b[K\rremote: Counting objects:  43% (7/16)\u001b[K\rremote: Counting objects:  50% (8/16)\u001b[K\rremote: Counting objects:  56% (9/16)\u001b[K\rremote: Counting objects:  62% (10/16)\u001b[K\rremote: Counting objects:  68% (11/16)\u001b[K\rremote: Counting objects:  75% (12/16)\u001b[K\rremote: Counting objects:  81% (13/16)\u001b[K\rremote: Counting objects:  87% (14/16)\u001b[K\rremote: Counting objects:  93% (15/16)\u001b[K\rremote: Counting objects: 100% (16/16)\u001b[K\rremote: Counting objects: 100% (16/16), done.\u001b[K\n",
            "remote: Compressing objects:   8% (1/12)\u001b[K\rremote: Compressing objects:  16% (2/12)\u001b[K\rremote: Compressing objects:  25% (3/12)\u001b[K\rremote: Compressing objects:  33% (4/12)\u001b[K\rremote: Compressing objects:  41% (5/12)\u001b[K\rremote: Compressing objects:  50% (6/12)\u001b[K\rremote: Compressing objects:  58% (7/12)\u001b[K\rremote: Compressing objects:  66% (8/12)\u001b[K\rremote: Compressing objects:  75% (9/12)\u001b[K\rremote: Compressing objects:  83% (10/12)\u001b[K\rremote: Compressing objects:  91% (11/12)\u001b[K\rremote: Compressing objects: 100% (12/12)\u001b[K\rremote: Compressing objects: 100% (12/12), done.\u001b[K\n",
            "Unpacking objects:   1% (1/95)   \rUnpacking objects:   2% (2/95)   \rUnpacking objects:   3% (3/95)   \rUnpacking objects:   4% (4/95)   \rUnpacking objects:   5% (5/95)   \rUnpacking objects:   6% (6/95)   \rUnpacking objects:   7% (7/95)   \rUnpacking objects:   8% (8/95)   \rUnpacking objects:   9% (9/95)   \rUnpacking objects:  10% (10/95)   \rUnpacking objects:  11% (11/95)   \rUnpacking objects:  12% (12/95)   \rUnpacking objects:  13% (13/95)   \rUnpacking objects:  14% (14/95)   \rUnpacking objects:  15% (15/95)   \rUnpacking objects:  16% (16/95)   \rUnpacking objects:  17% (17/95)   \rUnpacking objects:  18% (18/95)   \rUnpacking objects:  20% (19/95)   \rUnpacking objects:  21% (20/95)   \rUnpacking objects:  22% (21/95)   \rUnpacking objects:  23% (22/95)   \rUnpacking objects:  24% (23/95)   \rUnpacking objects:  25% (24/95)   \rUnpacking objects:  26% (25/95)   \rUnpacking objects:  27% (26/95)   \rUnpacking objects:  28% (27/95)   \rUnpacking objects:  29% (28/95)   \rUnpacking objects:  30% (29/95)   \rUnpacking objects:  31% (30/95)   \rUnpacking objects:  32% (31/95)   \rUnpacking objects:  33% (32/95)   \rUnpacking objects:  34% (33/95)   \rUnpacking objects:  35% (34/95)   \rUnpacking objects:  36% (35/95)   \rUnpacking objects:  37% (36/95)   \rUnpacking objects:  38% (37/95)   \rUnpacking objects:  40% (38/95)   \rUnpacking objects:  41% (39/95)   \rUnpacking objects:  42% (40/95)   \rUnpacking objects:  43% (41/95)   \rUnpacking objects:  44% (42/95)   \rUnpacking objects:  45% (43/95)   \rUnpacking objects:  46% (44/95)   \rUnpacking objects:  47% (45/95)   \rremote: Total 95 (delta 4), reused 4 (delta 1), pack-reused 79\u001b[K\n",
            "Unpacking objects:  48% (46/95)   \rUnpacking objects:  49% (47/95)   \rUnpacking objects:  50% (48/95)   \rUnpacking objects:  51% (49/95)   \rUnpacking objects:  52% (50/95)   \rUnpacking objects:  53% (51/95)   \rUnpacking objects:  54% (52/95)   \rUnpacking objects:  55% (53/95)   \rUnpacking objects:  56% (54/95)   \rUnpacking objects:  57% (55/95)   \rUnpacking objects:  58% (56/95)   \rUnpacking objects:  60% (57/95)   \rUnpacking objects:  61% (58/95)   \rUnpacking objects:  62% (59/95)   \rUnpacking objects:  63% (60/95)   \rUnpacking objects:  64% (61/95)   \rUnpacking objects:  65% (62/95)   \rUnpacking objects:  66% (63/95)   \rUnpacking objects:  67% (64/95)   \rUnpacking objects:  68% (65/95)   \rUnpacking objects:  69% (66/95)   \rUnpacking objects:  70% (67/95)   \rUnpacking objects:  71% (68/95)   \rUnpacking objects:  72% (69/95)   \rUnpacking objects:  73% (70/95)   \rUnpacking objects:  74% (71/95)   \rUnpacking objects:  75% (72/95)   \rUnpacking objects:  76% (73/95)   \rUnpacking objects:  77% (74/95)   \rUnpacking objects:  78% (75/95)   \rUnpacking objects:  80% (76/95)   \rUnpacking objects:  81% (77/95)   \rUnpacking objects:  82% (78/95)   \rUnpacking objects:  83% (79/95)   \rUnpacking objects:  84% (80/95)   \rUnpacking objects:  85% (81/95)   \rUnpacking objects:  86% (82/95)   \rUnpacking objects:  87% (83/95)   \rUnpacking objects:  88% (84/95)   \rUnpacking objects:  89% (85/95)   \rUnpacking objects:  90% (86/95)   \rUnpacking objects:  91% (87/95)   \rUnpacking objects:  92% (88/95)   \rUnpacking objects:  93% (89/95)   \rUnpacking objects:  94% (90/95)   \rUnpacking objects:  95% (91/95)   \rUnpacking objects:  96% (92/95)   \rUnpacking objects:  97% (93/95)   \rUnpacking objects:  98% (94/95)   \rUnpacking objects: 100% (95/95)   \rUnpacking objects: 100% (95/95), done.\n"
          ],
          "name": "stdout"
        }
      ]
    },
    {
      "cell_type": "code",
      "metadata": {
        "id": "5W4hnUy6cf42",
        "colab_type": "code",
        "outputId": "f8eec600-8365-455f-ddbb-8b034e98ed5c",
        "colab": {
          "base_uri": "https://localhost:8080/",
          "height": 34
        }
      },
      "source": [
        "%cd flask-video-streaming"
      ],
      "execution_count": 0,
      "outputs": [
        {
          "output_type": "stream",
          "text": [
            "/content/flask-video-streaming\n"
          ],
          "name": "stdout"
        }
      ]
    },
    {
      "cell_type": "code",
      "metadata": {
        "id": "qDksgiBmUamf",
        "colab_type": "code",
        "outputId": "f191e9dd-6608-4988-a4f2-bd84cb6144f1",
        "colab": {
          "base_uri": "https://localhost:8080/",
          "height": 85
        }
      },
      "source": [
        "!ls\n"
      ],
      "execution_count": 0,
      "outputs": [
        {
          "output_type": "stream",
          "text": [
            "1.jpg\tbase_camera.py\t  LICENSE\t\t   requirements.txt\n",
            "2.jpg\tcamera_opencv.py  README.md\t\t   templates\n",
            "3.jpg\tcamera_pi.py\t  requirements-opencv.txt\n",
            "app.py\tcamera.py\t  requirements-pi.txt\n"
          ],
          "name": "stdout"
        }
      ]
    },
    {
      "cell_type": "code",
      "metadata": {
        "id": "7zAT1Z6Kc4aQ",
        "colab_type": "code",
        "colab": {}
      },
      "source": [
        "import os\n",
        "import cv2\n",
        "from base_camera import BaseCamera\n",
        "\n",
        "\n",
        "class Camera(BaseCamera):\n",
        "    video_source = 0\n",
        "\n",
        "    def __init__(self):\n",
        "        if os.environ.get('OPENCV_CAMERA_SOURCE'):\n",
        "            Camera.set_video_source(int(os.environ['OPENCV_CAMERA_SOURCE']))\n",
        "        super(Camera, self).__init__()\n",
        "\n",
        "    @staticmethod\n",
        "    def set_video_source(source):\n",
        "        Camera.video_source = source\n",
        "\n",
        "    @staticmethod\n",
        "    def frames():\n",
        "        #camera = cv2.VideoCapture(Camera.video_source)\n",
        "        camera = cv2.VideoCapture(os.path.join(DIR_BASE, DIR_DATASET))\n",
        "        if not camera.isOpened():\n",
        "            raise RuntimeError('Could not start camera.')\n",
        "\n",
        "        MetadataCatalog.get(\"balloon_\" + 'test').set(thing_classes=[\"balloon\"])\n",
        "        cfg = get_cfg()\n",
        "        # add project-specific config (e.g., TensorMask) here if you're not running a model in detectron2's core library\n",
        "        cfg.merge_from_file(model_zoo.get_config_file(\"COCO-InstanceSegmentation/mask_rcnn_R_50_FPN_3x.yaml\"))\n",
        "        cfg.MODEL.ROI_HEADS.SCORE_THRESH_TEST = 0.5  # set threshold for this model\n",
        "        # Find a model from detectron2's model zoo. You can use the https://dl.fbaipublicfiles... url as well\n",
        "        #cfg.MODEL.WEIGHTS = model_zoo.get_checkpoint_url(\"COCO-InstanceSegmentation/mask_rcnn_R_50_FPN_3x.yaml\")\n",
        "        #cfg.OUTPUT_DIR = \"pre-trained models/model_final_R50_x3_ratio012.pth\"\n",
        "        cfg.MODEL.WEIGHTS = os.path.join(DIR_BASE, \"trained_models/model_final_R50_x3_ratio012.pth\")\n",
        "        cfg.DATASETS.TEST = (\"balloon_test\", )\n",
        "        cfg.DATASETS.TRAIN = (\"balloon_test\", )\n",
        "        cfg.MODEL.ROI_HEADS.NUM_CLASSES = 1  # only has one class (ballon)\n",
        "\n",
        "        predictor = DefaultPredictor(cfg)\n",
        "\n",
        "        while True:\n",
        "            # read current frame\n",
        "            _, img = camera.read()\n",
        "            cropped_image = img[200:625, 200:1150]\n",
        "            print (img.shape, cropped_image.shape)\n",
        "            \n",
        "\n",
        "            # let's predict\n",
        "\n",
        "            outputs = predictor(cropped_image)\n",
        "\n",
        "            v = Visualizer(cropped_image[:, :, ::-1], metadata=MetadataCatalog.get(\"balloon_\" + 'test'), scale=1.2)\n",
        "            v = v.draw_instance_predictions(outputs[\"instances\"].to(\"cpu\"))\n",
        "            img_tmp = v.get_image()[:, :, ::-1]\n",
        "            #cv2_imshow(v.get_image()[:, :, ::-1])\n",
        "\n",
        "\n",
        "            imS = cv2.resize(img_tmp, (350, 250))\n",
        "            #print (imS.shape)\n",
        "\n",
        "            # encode as a jpeg image and return it\n",
        "            yield cv2.imencode('.jpg', imS)[1].tobytes()\n"
      ],
      "execution_count": 0,
      "outputs": []
    },
    {
      "cell_type": "code",
      "metadata": {
        "id": "4vugGtrmt_8Z",
        "colab_type": "code",
        "outputId": "72e715fc-ffda-4525-dd67-8e81815d2a6d",
        "colab": {
          "base_uri": "https://localhost:8080/",
          "height": 1000
        }
      },
      "source": [
        "#!/usr/bin/env python\n",
        "from importlib import import_module\n",
        "import os\n",
        "from flask import Flask, render_template, Response\n",
        "\n",
        "# import camera driver\n",
        "if os.environ.get('CAMERA'):\n",
        "    Camera = import_module('camera_' + os.environ['CAMERA']).Camera\n",
        "#else:\n",
        "#    from camera import Camera\n",
        "\n",
        "# Raspberry Pi camera module (requires picamera package)\n",
        "# from camera_pi import Camera\n",
        "\n",
        "app = Flask(__name__)\n",
        "run_with_ngrok(app)   #starts ngrok when the app is run\n",
        "\n",
        "\n",
        "@app.route('/')\n",
        "def index():\n",
        "    \"\"\"Video streaming home page.\"\"\"\n",
        "    return render_template('index.html')\n",
        "\n",
        "\n",
        "def gen(camera):\n",
        "    \"\"\"Video streaming generator function.\"\"\"\n",
        "    while True:\n",
        "        frame = camera.get_frame()\n",
        "        yield (b'--frame\\r\\n'\n",
        "               b'Content-Type: image/jpeg\\r\\n\\r\\n' + frame + b'\\r\\n')\n",
        "\n",
        "\n",
        "@app.route('/video_feed')\n",
        "def video_feed():\n",
        "    \"\"\"Video streaming route. Put this in the src attribute of an img tag.\"\"\"\n",
        "    print ('video_feed pid {}', os.getpid())\n",
        "    return Response(gen(Camera()),\n",
        "                    mimetype='multipart/x-mixed-replace; boundary=frame')\n",
        "\n",
        "@app.route('/video_feed1')\n",
        "def video_feed1():\n",
        "    \"\"\"Video streaming route. Put this in the src attribute of an img tag.\"\"\"\n",
        "    print ('video_feed1, pid {}', os.getpid())\n",
        "    return Response(gen(Camera()),\n",
        "                    mimetype='multipart/x-mixed-replace; boundary=frame')\n",
        "\n",
        "#if __name__ == '__main__':\n",
        "#    app.run(host='0.0.0.0', threaded=True)\n",
        "#from flask.flask_script import Manager\n",
        "\n",
        "#manager = Manager(app)\n",
        "\n",
        "#if __name__ == \"__main__\":\n",
        "#    manager.run(host='0.0.0.0', threaded=True)\n",
        "app.run(host='0.0.0.0', threaded=False, processes=2)\n"
      ],
      "execution_count": 0,
      "outputs": [
        {
          "output_type": "stream",
          "text": [
            " * Serving Flask app \"__main__\" (lazy loading)\n",
            " * Environment: production\n",
            "\u001b[31m   WARNING: This is a development server. Do not use it in a production deployment.\u001b[0m\n",
            "\u001b[2m   Use a production WSGI server instead.\u001b[0m\n",
            " * Debug mode: off\n"
          ],
          "name": "stdout"
        },
        {
          "output_type": "stream",
          "text": [
            " * Running on http://0.0.0.0:5000/ (Press CTRL+C to quit)\n"
          ],
          "name": "stderr"
        },
        {
          "output_type": "stream",
          "text": [
            " * Running on http://68db5d08.ngrok.io\n",
            " * Traffic stats available on http://127.0.0.1:4040\n"
          ],
          "name": "stdout"
        },
        {
          "output_type": "stream",
          "text": [
            "127.0.0.1 - - [25/Mar/2020 14:53:53] \"\u001b[37mGET / HTTP/1.1\u001b[0m\" 200 -\n"
          ],
          "name": "stderr"
        },
        {
          "output_type": "stream",
          "text": [
            "video_feed pid {} 2675\n",
            "Camera init.\n",
            "Starting camera thread.\n",
            "pid  2675 tid  139886168557440\n",
            "(1080, 1920, 3) (425, 950, 3)\n",
            "(1080, 1920, 3) (425, 950, 3)\n"
          ],
          "name": "stdout"
        },
        {
          "output_type": "stream",
          "text": [
            "127.0.0.1 - - [25/Mar/2020 14:53:59] \"\u001b[37mGET /video_feed HTTP/1.1\u001b[0m\" 200 -\n"
          ],
          "name": "stderr"
        },
        {
          "output_type": "stream",
          "text": [
            "(1080, 1920, 3) (425, 950, 3)\n",
            "(1080, 1920, 3) (425, 950, 3)\n",
            "(1080, 1920, 3) (425, 950, 3)\n"
          ],
          "name": "stdout"
        },
        {
          "output_type": "stream",
          "text": [
            "127.0.0.1 - - [25/Mar/2020 14:54:00] \"\u001b[33mGET /favicon.ico HTTP/1.1\u001b[0m\" 404 -\n"
          ],
          "name": "stderr"
        },
        {
          "output_type": "stream",
          "text": [
            "(1080, 1920, 3) (425, 950, 3)\n",
            "(1080, 1920, 3) (425, 950, 3)\n",
            "(1080, 1920, 3) (425, 950, 3)\n",
            "(1080, 1920, 3) (425, 950, 3)\n",
            "(1080, 1920, 3) (425, 950, 3)\n",
            "(1080, 1920, 3) (425, 950, 3)\n",
            "(1080, 1920, 3) (425, 950, 3)\n",
            "(1080, 1920, 3) (425, 950, 3)\n",
            "(1080, 1920, 3) (425, 950, 3)\n",
            "(1080, 1920, 3) (425, 950, 3)\n",
            "(1080, 1920, 3) (425, 950, 3)\n",
            "(1080, 1920, 3) (425, 950, 3)\n",
            "(1080, 1920, 3) (425, 950, 3)\n",
            "(1080, 1920, 3) (425, 950, 3)\n",
            "(1080, 1920, 3) (425, 950, 3)\n",
            "(1080, 1920, 3) (425, 950, 3)\n",
            "(1080, 1920, 3) (425, 950, 3)\n",
            "(1080, 1920, 3) (425, 950, 3)\n",
            "(1080, 1920, 3) (425, 950, 3)\n",
            "(1080, 1920, 3) (425, 950, 3)\n",
            "(1080, 1920, 3) (425, 950, 3)\n",
            "(1080, 1920, 3) (425, 950, 3)\n",
            "(1080, 1920, 3) (425, 950, 3)\n",
            "(1080, 1920, 3) (425, 950, 3)\n",
            "(1080, 1920, 3) (425, 950, 3)\n",
            "(1080, 1920, 3) (425, 950, 3)\n",
            "(1080, 1920, 3) (425, 950, 3)\n",
            "(1080, 1920, 3) (425, 950, 3)\n",
            "(1080, 1920, 3) (425, 950, 3)\n",
            "(1080, 1920, 3) (425, 950, 3)\n",
            "(1080, 1920, 3) (425, 950, 3)\n",
            "(1080, 1920, 3) (425, 950, 3)\n",
            "(1080, 1920, 3) (425, 950, 3)\n",
            "(1080, 1920, 3) (425, 950, 3)\n",
            "(1080, 1920, 3) (425, 950, 3)\n",
            "(1080, 1920, 3) (425, 950, 3)\n",
            "(1080, 1920, 3) (425, 950, 3)\n",
            "(1080, 1920, 3) (425, 950, 3)\n",
            "(1080, 1920, 3) (425, 950, 3)\n",
            "(1080, 1920, 3) (425, 950, 3)\n",
            "(1080, 1920, 3) (425, 950, 3)\n",
            "(1080, 1920, 3) (425, 950, 3)\n",
            "(1080, 1920, 3) (425, 950, 3)\n",
            "(1080, 1920, 3) (425, 950, 3)\n",
            "(1080, 1920, 3) (425, 950, 3)\n",
            "(1080, 1920, 3) (425, 950, 3)\n",
            "(1080, 1920, 3) (425, 950, 3)\n",
            "(1080, 1920, 3) (425, 950, 3)\n",
            "(1080, 1920, 3) (425, 950, 3)\n",
            "(1080, 1920, 3) (425, 950, 3)\n",
            "(1080, 1920, 3) (425, 950, 3)\n",
            "(1080, 1920, 3) (425, 950, 3)\n",
            "(1080, 1920, 3) (425, 950, 3)\n",
            "(1080, 1920, 3) (425, 950, 3)\n",
            "(1080, 1920, 3) (425, 950, 3)\n",
            "(1080, 1920, 3) (425, 950, 3)\n",
            "(1080, 1920, 3) (425, 950, 3)\n",
            "(1080, 1920, 3) (425, 950, 3)\n",
            "(1080, 1920, 3) (425, 950, 3)\n",
            "(1080, 1920, 3) (425, 950, 3)\n",
            "(1080, 1920, 3) (425, 950, 3)\n",
            "(1080, 1920, 3) (425, 950, 3)\n",
            "(1080, 1920, 3) (425, 950, 3)\n",
            "(1080, 1920, 3) (425, 950, 3)\n",
            "(1080, 1920, 3) (425, 950, 3)\n",
            "(1080, 1920, 3) (425, 950, 3)\n",
            "(1080, 1920, 3) (425, 950, 3)\n",
            "(1080, 1920, 3) (425, 950, 3)\n",
            "(1080, 1920, 3) (425, 950, 3)\n",
            "(1080, 1920, 3) (425, 950, 3)\n",
            "(1080, 1920, 3) (425, 950, 3)\n",
            "(1080, 1920, 3) (425, 950, 3)\n",
            "(1080, 1920, 3) (425, 950, 3)\n",
            "(1080, 1920, 3) (425, 950, 3)\n",
            "(1080, 1920, 3) (425, 950, 3)\n",
            "(1080, 1920, 3) (425, 950, 3)\n",
            "(1080, 1920, 3) (425, 950, 3)\n",
            "(1080, 1920, 3) (425, 950, 3)\n",
            "(1080, 1920, 3) (425, 950, 3)\n",
            "(1080, 1920, 3) (425, 950, 3)\n",
            "(1080, 1920, 3) (425, 950, 3)\n",
            "(1080, 1920, 3) (425, 950, 3)\n",
            "(1080, 1920, 3) (425, 950, 3)\n",
            "(1080, 1920, 3) (425, 950, 3)\n",
            "(1080, 1920, 3) (425, 950, 3)\n",
            "(1080, 1920, 3) (425, 950, 3)\n",
            "(1080, 1920, 3) (425, 950, 3)\n",
            "(1080, 1920, 3) (425, 950, 3)\n",
            "(1080, 1920, 3) (425, 950, 3)\n",
            "(1080, 1920, 3) (425, 950, 3)\n",
            "(1080, 1920, 3) (425, 950, 3)\n",
            "(1080, 1920, 3) (425, 950, 3)\n",
            "(1080, 1920, 3) (425, 950, 3)\n",
            "(1080, 1920, 3) (425, 950, 3)\n",
            "(1080, 1920, 3) (425, 950, 3)\n",
            "(1080, 1920, 3) (425, 950, 3)\n",
            "(1080, 1920, 3) (425, 950, 3)\n",
            "(1080, 1920, 3) (425, 950, 3)\n",
            "(1080, 1920, 3) (425, 950, 3)\n",
            "(1080, 1920, 3) (425, 950, 3)\n",
            "(1080, 1920, 3) (425, 950, 3)\n",
            "(1080, 1920, 3) (425, 950, 3)\n",
            "(1080, 1920, 3) (425, 950, 3)\n",
            "(1080, 1920, 3) (425, 950, 3)\n",
            "(1080, 1920, 3) (425, 950, 3)\n",
            "(1080, 1920, 3) (425, 950, 3)\n",
            "(1080, 1920, 3) (425, 950, 3)\n",
            "(1080, 1920, 3) (425, 950, 3)\n",
            "(1080, 1920, 3) (425, 950, 3)\n",
            "(1080, 1920, 3) (425, 950, 3)\n",
            "(1080, 1920, 3) (425, 950, 3)\n",
            "(1080, 1920, 3) (425, 950, 3)\n",
            "(1080, 1920, 3) (425, 950, 3)\n",
            "(1080, 1920, 3) (425, 950, 3)\n",
            "(1080, 1920, 3) (425, 950, 3)\n",
            "(1080, 1920, 3) (425, 950, 3)\n",
            "(1080, 1920, 3) (425, 950, 3)\n",
            "(1080, 1920, 3) (425, 950, 3)\n",
            "(1080, 1920, 3) (425, 950, 3)\n",
            "(1080, 1920, 3) (425, 950, 3)\n",
            "(1080, 1920, 3) (425, 950, 3)\n",
            "(1080, 1920, 3) (425, 950, 3)\n",
            "(1080, 1920, 3) (425, 950, 3)\n",
            "(1080, 1920, 3) (425, 950, 3)\n",
            "(1080, 1920, 3) (425, 950, 3)\n",
            "(1080, 1920, 3) (425, 950, 3)\n",
            "(1080, 1920, 3) (425, 950, 3)\n",
            "(1080, 1920, 3) (425, 950, 3)\n",
            "(1080, 1920, 3) (425, 950, 3)\n",
            "(1080, 1920, 3) (425, 950, 3)\n",
            "(1080, 1920, 3) (425, 950, 3)\n",
            "(1080, 1920, 3) (425, 950, 3)\n",
            "(1080, 1920, 3) (425, 950, 3)\n",
            "(1080, 1920, 3) (425, 950, 3)\n",
            "(1080, 1920, 3) (425, 950, 3)\n",
            "(1080, 1920, 3) (425, 950, 3)\n",
            "(1080, 1920, 3) (425, 950, 3)\n",
            "(1080, 1920, 3) (425, 950, 3)\n",
            "(1080, 1920, 3) (425, 950, 3)\n",
            "(1080, 1920, 3) (425, 950, 3)\n",
            "(1080, 1920, 3) (425, 950, 3)\n",
            "(1080, 1920, 3) (425, 950, 3)\n",
            "(1080, 1920, 3) (425, 950, 3)\n",
            "(1080, 1920, 3) (425, 950, 3)\n",
            "(1080, 1920, 3) (425, 950, 3)\n",
            "(1080, 1920, 3) (425, 950, 3)\n",
            "(1080, 1920, 3) (425, 950, 3)\n",
            "(1080, 1920, 3) (425, 950, 3)\n",
            "(1080, 1920, 3) (425, 950, 3)\n",
            "(1080, 1920, 3) (425, 950, 3)\n",
            "(1080, 1920, 3) (425, 950, 3)\n",
            "(1080, 1920, 3) (425, 950, 3)\n",
            "(1080, 1920, 3) (425, 950, 3)\n",
            "(1080, 1920, 3) (425, 950, 3)\n",
            "(1080, 1920, 3) (425, 950, 3)\n",
            "(1080, 1920, 3) (425, 950, 3)\n",
            "(1080, 1920, 3) (425, 950, 3)\n",
            "(1080, 1920, 3) (425, 950, 3)\n",
            "(1080, 1920, 3) (425, 950, 3)\n",
            "(1080, 1920, 3) (425, 950, 3)\n",
            "(1080, 1920, 3) (425, 950, 3)\n",
            "(1080, 1920, 3) (425, 950, 3)\n",
            "(1080, 1920, 3) (425, 950, 3)\n",
            "(1080, 1920, 3) (425, 950, 3)\n",
            "(1080, 1920, 3) (425, 950, 3)\n",
            "(1080, 1920, 3) (425, 950, 3)\n",
            "(1080, 1920, 3) (425, 950, 3)\n",
            "(1080, 1920, 3) (425, 950, 3)\n",
            "(1080, 1920, 3) (425, 950, 3)\n",
            "(1080, 1920, 3) (425, 950, 3)\n",
            "(1080, 1920, 3) (425, 950, 3)\n",
            "(1080, 1920, 3) (425, 950, 3)\n",
            "(1080, 1920, 3) (425, 950, 3)\n",
            "(1080, 1920, 3) (425, 950, 3)\n",
            "(1080, 1920, 3) (425, 950, 3)\n",
            "(1080, 1920, 3) (425, 950, 3)\n",
            "(1080, 1920, 3) (425, 950, 3)\n",
            "(1080, 1920, 3) (425, 950, 3)\n",
            "(1080, 1920, 3) (425, 950, 3)\n",
            "(1080, 1920, 3) (425, 950, 3)\n",
            "(1080, 1920, 3) (425, 950, 3)\n",
            "(1080, 1920, 3) (425, 950, 3)\n",
            "(1080, 1920, 3) (425, 950, 3)\n",
            "(1080, 1920, 3) (425, 950, 3)\n",
            "(1080, 1920, 3) (425, 950, 3)\n",
            "(1080, 1920, 3) (425, 950, 3)\n",
            "(1080, 1920, 3) (425, 950, 3)\n",
            "(1080, 1920, 3) (425, 950, 3)\n",
            "(1080, 1920, 3) (425, 950, 3)\n",
            "(1080, 1920, 3) (425, 950, 3)\n",
            "(1080, 1920, 3) (425, 950, 3)\n"
          ],
          "name": "stdout"
        }
      ]
    },
    {
      "cell_type": "code",
      "metadata": {
        "id": "-ySK_GleEnlf",
        "colab_type": "code",
        "colab": {}
      },
      "source": [
        ""
      ],
      "execution_count": 0,
      "outputs": []
    }
  ]
}